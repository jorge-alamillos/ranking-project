{
 "cells": [
  {
   "cell_type": "markdown",
   "metadata": {},
   "source": [
    "# GET THE LINK TO THE PRs"
   ]
  },
  {
   "cell_type": "code",
   "execution_count": 3,
   "metadata": {},
   "outputs": [
    {
     "data": {
      "text/plain": [
       "['https://api.github.com/repos/ironhack-datalabs/datamad0820/pulls?per_page=100&state=all&page=1',\n",
       " 'https://api.github.com/repos/ironhack-datalabs/datamad0820/pulls?per_page=100&state=all&page=2',\n",
       " 'https://api.github.com/repos/ironhack-datalabs/datamad0820/pulls?per_page=100&state=all&page=3',\n",
       " 'https://api.github.com/repos/ironhack-datalabs/datamad0820/pulls?per_page=100&state=all&page=4',\n",
       " 'https://api.github.com/repos/ironhack-datalabs/datamad0820/pulls?per_page=100&state=all&page=5',\n",
       " 'https://api.github.com/repos/ironhack-datalabs/datamad0820/pulls?per_page=100&state=all&page=6',\n",
       " 'https://api.github.com/repos/ironhack-datalabs/datamad0820/pulls?per_page=100&state=all&page=7']"
      ]
     },
     "execution_count": 3,
     "metadata": {},
     "output_type": "execute_result"
    }
   ],
   "source": [
    "import requests\n",
    "import os\n",
    "from dotenv import load_dotenv\n",
    "\n",
    "def gen_url():\n",
    "    urls = []\n",
    "    load_dotenv()\n",
    "    #authkey = os.getenv(\"AUTHKEY\")\n",
    "   #headers = {\"Authorization\": f\"Bearer {authkey}\"}\n",
    "    base_url = \"https://api.github.com\"\n",
    "    owner = \"ironhack-datalabs\"\n",
    "    repo = \"datamad0820\"\n",
    "    endpoint = f\"/repos/{owner}/{repo}/pulls\"\n",
    "    query = \"?per_page=100&state=all\"\n",
    "    for i in range(1,8):\n",
    "        urls.append(f\"{base_url}{endpoint}{query}&page={i}\")\n",
    "    return urls\n",
    "gen_url()\n"
   ]
  },
  {
   "cell_type": "code",
   "execution_count": 4,
   "metadata": {
    "scrolled": false
   },
   "outputs": [],
   "source": [
    "def get_pulls(gen_url):\n",
    "    authkey = os.getenv(\"AUTHKEY\")\n",
    "    headers = {\"Authorization\": f\"Bearer {authkey}\"}\n",
    "    jsons = []\n",
    "    slct = []\n",
    "    for url in gen_url():\n",
    "        jsons.append(requests.get(url,headers=headers).json())\n",
    "    for page in jsons:\n",
    "        for pull in page:\n",
    "            if pull[\"state\"] == \"closed\":\n",
    "                slct.append({\"pull_id\":pull[\"id\"],\n",
    "                             \"pull_url\":pull[\"html_url\"],\n",
    "                             \"pull_nbr\":pull[\"number\"],\n",
    "                             \"pull_state\":pull[\"state\"],\n",
    "                             \"pull_title\":pull[\"title\"].split()[0][1:-1],\n",
    "                             \"name_participants\":pull[\"title\"].split()[1:],\n",
    "                             \"creation_date\":pull[\"created_at\"][:10],\n",
    "                             \"closing_date\":pull[\"closed_at\"][:10],\n",
    "                             \"pull_state\":pull[\"state\"][:10]})\n",
    "\n",
    "            else:\n",
    "                slct.append({\"pull_id\":pull[\"id\"],\n",
    "                             \"pull_url\":pull[\"html_url\"],\n",
    "                             \"pull_nbr\":pull[\"number\"],\n",
    "                             \"pull_state\":pull[\"state\"],\n",
    "                             \"pull_title\":pull[\"title\"].split()[0][1:-1],\n",
    "                             \"name_participants\":pull[\"title\"].split()[1],\n",
    "                             \"creation_date\":pull[\"created_at\"],\n",
    "                             \"closing_date\": False,\n",
    "                             \"pull_state\":pull[\"state\"][:10]})\n",
    "\n",
    "    return slct\n",
    "                                      \n",
    "pulls = get_pulls(gen_url)"
   ]
  },
  {
   "cell_type": "code",
   "execution_count": 5,
   "metadata": {
    "scrolled": false
   },
   "outputs": [
    {
     "data": {
      "text/plain": [
       "{'pull_id': 488861544,\n",
       " 'pull_url': 'https://github.com/ironhack-datalabs/datamad0820/pull/536',\n",
       " 'pull_nbr': 536,\n",
       " 'pull_state': 'closed',\n",
       " 'pull_title': 'lab-tableau-data-visualization',\n",
       " 'name_participants': ['Raul', 'Fernandez'],\n",
       " 'creation_date': '2020-09-17',\n",
       " 'closing_date': '2020-09-21'}"
      ]
     },
     "execution_count": 5,
     "metadata": {},
     "output_type": "execute_result"
    }
   ],
   "source": [
    "pulls[5]\n"
   ]
  },
  {
   "cell_type": "markdown",
   "metadata": {},
   "source": [
    "# WEBSCRAPING PRs"
   ]
  },
  {
   "cell_type": "code",
   "execution_count": 6,
   "metadata": {},
   "outputs": [],
   "source": [
    "import re\n",
    "from bs4 import BeautifulSoup\n",
    "import requests\n",
    "def get_users(x):\n",
    "    for pull in x:\n",
    "        authors = []\n",
    "        res = requests.get(pull[\"pull_url\"])\n",
    "        soup = BeautifulSoup(res.text,'html.parser')\n",
    "        auth = soup.select(\"a.author[href]\")\n",
    "        for r in auth:\n",
    "            authors.append(r.text)\n",
    "        authors = set(authors)\n",
    "        for a,b in enumerate(authors):\n",
    "             pull[f\"user{a+1}_login\"] = b\n",
    "        if pull[\"pull_state\"] == \"closed\":        \n",
    "            pull[\"meme\"] = re.findall(r'src.*\\s',str(soup.select(\"p > a > img[src]\")))\n",
    "        \n",
    "requests = get_users(pulls)\n"
   ]
  },
  {
   "cell_type": "code",
   "execution_count": 7,
   "metadata": {},
   "outputs": [
    {
     "data": {
      "text/plain": [
       "518"
      ]
     },
     "execution_count": 7,
     "metadata": {},
     "output_type": "execute_result"
    }
   ],
   "source": [
    "len(pulls)"
   ]
  },
  {
   "cell_type": "code",
   "execution_count": null,
   "metadata": {},
   "outputs": [],
   "source": [
    "for pull in pulls:\n",
    "    if pull"
   ]
  },
  {
   "cell_type": "markdown",
   "metadata": {},
   "source": [
    "# IMPORT TO MONGO"
   ]
  },
  {
   "cell_type": "code",
   "execution_count": 2,
   "metadata": {},
   "outputs": [],
   "source": [
    "import json\n",
    "from bson import BSON\n",
    "from pymongo import MongoClient\n",
    "client = MongoClient()"
   ]
  },
  {
   "cell_type": "code",
   "execution_count": null,
   "metadata": {},
   "outputs": [],
   "source": [
    "result = db.ranking.insert_many([{'x': i} for i in range(2)])\n",
    ">>> result.inserted_ids\n",
    "[ObjectId('54f113fffba522406c9cc20e'), ObjectId('54f113fffba522406c9cc20f')]\n",
    ">>> db.test.count_documents({})\n",
    "2"
   ]
  }
 ],
 "metadata": {
  "kernelspec": {
   "display_name": "Python 3",
   "language": "python",
   "name": "python3"
  },
  "language_info": {
   "codemirror_mode": {
    "name": "ipython",
    "version": 3
   },
   "file_extension": ".py",
   "mimetype": "text/x-python",
   "name": "python",
   "nbconvert_exporter": "python",
   "pygments_lexer": "ipython3",
   "version": "3.8.2"
  }
 },
 "nbformat": 4,
 "nbformat_minor": 4
}
